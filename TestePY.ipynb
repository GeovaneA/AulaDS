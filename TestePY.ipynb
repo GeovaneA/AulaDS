{
 "cells": [
  {
   "cell_type": "code",
   "execution_count": null,
   "metadata": {},
   "outputs": [],
   "source": [
    "\n",
    "a = 2\n",
    "b = 2\n",
    "c = a + b\n",
    "if 5 == c:\n",
    "    print(c)\n",
    "elif 4 == c:\n",
    "    print(\"é 4\")\n",
    "else:\n",
    "    print(\"é nada\")"
   ]
  },
  {
   "cell_type": "code",
   "execution_count": null,
   "metadata": {},
   "outputs": [],
   "source": [
    "lista1 = [10, 2, 3, 4, 5, 6]\n",
    "\n",
    "c = max(lista1)\n",
    "print(c)\n",
    "a = len(lista1)\n",
    "print(a)\n",
    "d = sum(lista1)\n",
    "print(d)"
   ]
  },
  {
   "cell_type": "code",
   "execution_count": 6,
   "metadata": {},
   "outputs": [
    {
     "name": "stdout",
     "output_type": "stream",
     "text": [
      "2\n",
      "Geovane\n"
     ]
    }
   ],
   "source": [
    "\n",
    "nome = \"Geovane de Souza Alborghetti\"\n",
    "print(nome.count(\"a\"))\n",
    "lista = []\n",
    "lista.append(nome[0:7])\n",
    "for n in lista:\n",
    "    print(n)"
   ]
  },
  {
   "cell_type": "code",
   "execution_count": null,
   "metadata": {},
   "outputs": [],
   "source": []
  }
 ],
 "metadata": {
  "kernelspec": {
   "display_name": "Python 3",
   "language": "python",
   "name": "python3"
  },
  "language_info": {
   "codemirror_mode": {
    "name": "ipython",
    "version": 3
   },
   "file_extension": ".py",
   "mimetype": "text/x-python",
   "name": "python",
   "nbconvert_exporter": "python",
   "pygments_lexer": "ipython3",
   "version": "3.7.6"
  }
 },
 "nbformat": 4,
 "nbformat_minor": 4
}
